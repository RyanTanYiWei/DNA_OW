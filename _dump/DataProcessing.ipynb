{
 "cells": [
  {
   "cell_type": "code",
   "execution_count": 2,
   "metadata": {},
   "outputs": [],
   "source": [
    "# Import Data \n",
    "\n",
    "import os\n",
    "from googletrans import Translator\n",
    "from striprtf.striprtf import rtf_to_text\n",
    "import pandas as pd\n",
    "\n",
    "translator = Translator(service_urls=[\"translate.googleapis.com\"])  "
   ]
  },
  {
   "cell_type": "markdown",
   "metadata": {},
   "source": [
    "# Defining Functions"
   ]
  },
  {
   "cell_type": "code",
   "execution_count": 3,
   "metadata": {},
   "outputs": [],
   "source": [
    "# import_rtf_files\n",
    "\n",
    "def import_rtf_files(folder_path):\n",
    "    rtf_files = []\n",
    "    title_names = []\n",
    "    for file_name in os.listdir(folder_path):\n",
    "        if file_name.endswith('.rtf'):\n",
    "            title_names.append(file_name)\n",
    "            file_path = os.path.join(folder_path, file_name)\n",
    "            with open(file_path) as file:\n",
    "                doc = rtf_to_text(file.read())\n",
    "                #remove tabs\n",
    "                doc = doc.replace('\\t', '')\n",
    "                rtf_files.append(doc)\n",
    "    return title_names, rtf_files\n"
   ]
  },
  {
   "cell_type": "markdown",
   "metadata": {},
   "source": [
    "# Import Files and Translate"
   ]
  },
  {
   "cell_type": "code",
   "execution_count": 5,
   "metadata": {},
   "outputs": [],
   "source": [
    "# import files\n",
    "#folder_path = 'C:/Users/ryant/Google Drive/School (TUD)/Year2_Thesis/DNA_OW/Data/401-459'\n",
    "\n",
    "folder_paths = [os.path.join(os.getcwd(), \"Data/1-100/\"),\n",
    "                os.path.join(os.getcwd(), \"Data/101-200/\"),\n",
    "                os.path.join(os.getcwd(), \"Data/201-300/\"),\n",
    "                os.path.join(os.getcwd(), \"Data/301-400/\"),\n",
    "                os.path.join(os.getcwd(), \"Data/401-459/\")\n",
    "                ]\n",
    "#folder_path = os.path.join(os.getcwd(), \"Data/401-459/\")\n",
    "\n",
    "title_texts = []\n",
    "rtf_texts = []\n",
    "translated_texts = []\n",
    "\n",
    "for folder_path in folder_paths:\n",
    "    # for a single path\n",
    "    s_title_texts, s_rtf_texts = import_rtf_files(folder_path)\n",
    "    # translate rtf_texts\n",
    "    for text in s_rtf_texts:\n",
    "        translated_text = translator.translate(text, src='nl', dest='en') \n",
    "        translated_texts.append(translated_text) \n",
    "\n",
    "    # combining\n",
    "    title_texts += s_title_texts\n",
    "    rtf_texts += s_rtf_texts"
   ]
  },
  {
   "cell_type": "code",
   "execution_count": 6,
   "metadata": {},
   "outputs": [
    {
     "name": "stdout",
     "output_type": "stream",
     "text": [
      "459 459 459\n"
     ]
    }
   ],
   "source": [
    "# Test if all files are parsed\n",
    "print (len(title_texts),len(rtf_texts),len(translated_texts))"
   ]
  },
  {
   "cell_type": "code",
   "execution_count": 7,
   "metadata": {},
   "outputs": [
    {
     "name": "stdout",
     "output_type": "stream",
     "text": [
      "'EU te traag met klimaatmaatregelen'.rtf\n"
     ]
    }
   ],
   "source": [
    "# Test Single text\n",
    "dutch_text = rtf_texts[1]\n",
    "dutch_title = title_texts[1]\n",
    "#print(translator.translate(dutch_text, src='nl', dest='en'))\n",
    "print (dutch_title)"
   ]
  },
  {
   "cell_type": "markdown",
   "metadata": {},
   "source": [
    "# Export Translated Files as CSV"
   ]
  },
  {
   "cell_type": "code",
   "execution_count": 8,
   "metadata": {},
   "outputs": [],
   "source": [
    "# Create Data Frame\n",
    "df = pd.DataFrame({'Title': title_texts, 'Original Text': rtf_texts, 'Translated Text': translated_texts})\n",
    "\n",
    "# Write DataFrame to CSV file\n",
    "dir_path = os.path.dirname(os.path.realpath('__file__'))\n",
    "file_path = os.path.join(dir_path, \"TranslatedData\",'translated.xlsx')\n",
    "df.to_excel(file_path, index_label= False)"
   ]
  },
  {
   "cell_type": "code",
   "execution_count": 9,
   "metadata": {},
   "outputs": [],
   "source": [
    "with open('example.txt', 'w') as file:\n",
    "    # Write text to the file\n",
    "    file.write(str(translated_texts[11]))"
   ]
  },
  {
   "cell_type": "markdown",
   "metadata": {},
   "source": [
    "# Export Translated Files as TXT"
   ]
  },
  {
   "cell_type": "code",
   "execution_count": 10,
   "metadata": {},
   "outputs": [
    {
     "data": {
      "text/plain": [
       "\"'EU te traag met klimaatmaatregelen'.rtf\""
      ]
     },
     "execution_count": 10,
     "metadata": {},
     "output_type": "execute_result"
    }
   ],
   "source": [
    "title_texts[1]"
   ]
  },
  {
   "cell_type": "code",
   "execution_count": 11,
   "metadata": {},
   "outputs": [],
   "source": [
    "for i in range(len(title_texts)):\n",
    "    # replace 'rtf' from title\n",
    "    new_title = title_texts[i].replace('.rtf','.txt')\n",
    "\n",
    "    file_path = os.path.join(\"TranslatedData\", new_title)\n",
    "\n",
    "    with open(file_path, 'w') as file:\n",
    "        file.write(str(translated_texts[i]))"
   ]
  }
 ],
 "metadata": {
  "kernelspec": {
   "display_name": "DNA",
   "language": "python",
   "name": "python3"
  },
  "language_info": {
   "codemirror_mode": {
    "name": "ipython",
    "version": 3
   },
   "file_extension": ".py",
   "mimetype": "text/x-python",
   "name": "python",
   "nbconvert_exporter": "python",
   "pygments_lexer": "ipython3",
   "version": "3.12.2"
  }
 },
 "nbformat": 4,
 "nbformat_minor": 2
}
